{
 "cells": [
  {
   "cell_type": "markdown",
   "metadata": {},
   "source": [
    "Observations based on data\n",
    "\n",
    "1)age group 15 – 25 had the highest spending rate.  This makes sense because they would have the most disposable income relative to expenses.  High school students live at home and can use allowances/part time job money towards their hobby.  Age group 20-24 is comprised with older college students who may have secured internships that give decent pay and fresh graduates who have their first “real job” so they can splurge money.  As the age groups get older, the sales go down.  This can coincide with growing obligations as people age.  It’s not suprising that the oldest group spends the least, because it can be assumed older people have older kids that require more financial obligation.\n",
    "\n",
    "2)Sales are dominated by males.  This is not surprising, as gaming as a hobby is dominated by males.  \n",
    "\n",
    "3)The top item choices were interesting.  I do not have the specifics for the game, so its hard to analyze why certain items would sell more than others.  In my experience, weapons in RPGs tend to give player characters the most immediate impact.  Weapon upgrades tend to be #1 priority when gearing your character in RPGs.  It’s not surprising to see weapons dominating the top 5 purchases.  It is interesting that the #1 item is a gem.  That gem must be very versatile and powerful.\n"
   ]
  },
  {
   "cell_type": "code",
   "execution_count": 1,
   "metadata": {
    "collapsed": true
   },
   "outputs": [],
   "source": [
    "#import dependencies\n",
    "import pandas as pd"
   ]
  },
  {
   "cell_type": "code",
   "execution_count": 2,
   "metadata": {
    "collapsed": true
   },
   "outputs": [],
   "source": [
    "#make json file readers\n",
    "jsonfile = pd.read_json(\"purchase_data.json\")\n",
    "jsonfile2 = pd.read_json(\"purchase_data2.json\")"
   ]
  },
  {
   "cell_type": "code",
   "execution_count": 3,
   "metadata": {
    "collapsed": true
   },
   "outputs": [],
   "source": [
    "#make data frames with json\n",
    "df1 = pd.DataFrame(jsonfile)\n",
    "df2 = pd.DataFrame(jsonfile2)"
   ]
  },
  {
   "cell_type": "code",
   "execution_count": 4,
   "metadata": {},
   "outputs": [
    {
     "data": {
      "text/html": [
       "<div>\n",
       "<style>\n",
       "    .dataframe thead tr:only-child th {\n",
       "        text-align: right;\n",
       "    }\n",
       "\n",
       "    .dataframe thead th {\n",
       "        text-align: left;\n",
       "    }\n",
       "\n",
       "    .dataframe tbody tr th {\n",
       "        vertical-align: top;\n",
       "    }\n",
       "</style>\n",
       "<table border=\"1\" class=\"dataframe\">\n",
       "  <thead>\n",
       "    <tr style=\"text-align: right;\">\n",
       "      <th></th>\n",
       "      <th>Age</th>\n",
       "      <th>Gender</th>\n",
       "      <th>Item ID</th>\n",
       "      <th>Item Name</th>\n",
       "      <th>Price</th>\n",
       "      <th>SN</th>\n",
       "    </tr>\n",
       "  </thead>\n",
       "  <tbody>\n",
       "    <tr>\n",
       "      <th>0</th>\n",
       "      <td>38</td>\n",
       "      <td>Male</td>\n",
       "      <td>165</td>\n",
       "      <td>Bone Crushing Silver Skewer</td>\n",
       "      <td>3.37</td>\n",
       "      <td>Aelalis34</td>\n",
       "    </tr>\n",
       "    <tr>\n",
       "      <th>1</th>\n",
       "      <td>21</td>\n",
       "      <td>Male</td>\n",
       "      <td>119</td>\n",
       "      <td>Stormbringer, Dark Blade of Ending Misery</td>\n",
       "      <td>2.32</td>\n",
       "      <td>Eolo46</td>\n",
       "    </tr>\n",
       "    <tr>\n",
       "      <th>2</th>\n",
       "      <td>34</td>\n",
       "      <td>Male</td>\n",
       "      <td>174</td>\n",
       "      <td>Primitive Blade</td>\n",
       "      <td>2.46</td>\n",
       "      <td>Assastnya25</td>\n",
       "    </tr>\n",
       "    <tr>\n",
       "      <th>3</th>\n",
       "      <td>21</td>\n",
       "      <td>Male</td>\n",
       "      <td>92</td>\n",
       "      <td>Final Critic</td>\n",
       "      <td>1.36</td>\n",
       "      <td>Pheusrical25</td>\n",
       "    </tr>\n",
       "    <tr>\n",
       "      <th>4</th>\n",
       "      <td>23</td>\n",
       "      <td>Male</td>\n",
       "      <td>63</td>\n",
       "      <td>Stormfury Mace</td>\n",
       "      <td>1.27</td>\n",
       "      <td>Aela59</td>\n",
       "    </tr>\n",
       "  </tbody>\n",
       "</table>\n",
       "</div>"
      ],
      "text/plain": [
       "   Age Gender  Item ID                                  Item Name  Price  \\\n",
       "0   38   Male      165                Bone Crushing Silver Skewer   3.37   \n",
       "1   21   Male      119  Stormbringer, Dark Blade of Ending Misery   2.32   \n",
       "2   34   Male      174                            Primitive Blade   2.46   \n",
       "3   21   Male       92                               Final Critic   1.36   \n",
       "4   23   Male       63                             Stormfury Mace   1.27   \n",
       "\n",
       "             SN  \n",
       "0     Aelalis34  \n",
       "1        Eolo46  \n",
       "2   Assastnya25  \n",
       "3  Pheusrical25  \n",
       "4        Aela59  "
      ]
     },
     "execution_count": 4,
     "metadata": {},
     "output_type": "execute_result"
    }
   ],
   "source": [
    "#headers for dfs make sure they ran\n",
    "df1.head()"
   ]
  },
  {
   "cell_type": "code",
   "execution_count": 5,
   "metadata": {},
   "outputs": [
    {
     "data": {
      "text/html": [
       "<div>\n",
       "<style>\n",
       "    .dataframe thead tr:only-child th {\n",
       "        text-align: right;\n",
       "    }\n",
       "\n",
       "    .dataframe thead th {\n",
       "        text-align: left;\n",
       "    }\n",
       "\n",
       "    .dataframe tbody tr th {\n",
       "        vertical-align: top;\n",
       "    }\n",
       "</style>\n",
       "<table border=\"1\" class=\"dataframe\">\n",
       "  <thead>\n",
       "    <tr style=\"text-align: right;\">\n",
       "      <th></th>\n",
       "      <th>Age</th>\n",
       "      <th>Gender</th>\n",
       "      <th>Item ID</th>\n",
       "      <th>Item Name</th>\n",
       "      <th>Price</th>\n",
       "      <th>SN</th>\n",
       "    </tr>\n",
       "  </thead>\n",
       "  <tbody>\n",
       "    <tr>\n",
       "      <th>0</th>\n",
       "      <td>20</td>\n",
       "      <td>Male</td>\n",
       "      <td>93</td>\n",
       "      <td>Apocalyptic Battlescythe</td>\n",
       "      <td>4.49</td>\n",
       "      <td>Iloni35</td>\n",
       "    </tr>\n",
       "    <tr>\n",
       "      <th>1</th>\n",
       "      <td>21</td>\n",
       "      <td>Male</td>\n",
       "      <td>12</td>\n",
       "      <td>Dawne</td>\n",
       "      <td>3.36</td>\n",
       "      <td>Aidaira26</td>\n",
       "    </tr>\n",
       "    <tr>\n",
       "      <th>2</th>\n",
       "      <td>17</td>\n",
       "      <td>Male</td>\n",
       "      <td>5</td>\n",
       "      <td>Putrid Fan</td>\n",
       "      <td>2.63</td>\n",
       "      <td>Irim47</td>\n",
       "    </tr>\n",
       "    <tr>\n",
       "      <th>3</th>\n",
       "      <td>17</td>\n",
       "      <td>Male</td>\n",
       "      <td>123</td>\n",
       "      <td>Twilight's Carver</td>\n",
       "      <td>2.55</td>\n",
       "      <td>Irith83</td>\n",
       "    </tr>\n",
       "    <tr>\n",
       "      <th>4</th>\n",
       "      <td>22</td>\n",
       "      <td>Male</td>\n",
       "      <td>154</td>\n",
       "      <td>Feral Katana</td>\n",
       "      <td>4.11</td>\n",
       "      <td>Philodil43</td>\n",
       "    </tr>\n",
       "  </tbody>\n",
       "</table>\n",
       "</div>"
      ],
      "text/plain": [
       "   Age Gender  Item ID                 Item Name  Price          SN\n",
       "0   20   Male       93  Apocalyptic Battlescythe   4.49     Iloni35\n",
       "1   21   Male       12                     Dawne   3.36   Aidaira26\n",
       "2   17   Male        5                Putrid Fan   2.63      Irim47\n",
       "3   17   Male      123         Twilight's Carver   2.55     Irith83\n",
       "4   22   Male      154              Feral Katana   4.11  Philodil43"
      ]
     },
     "execution_count": 5,
     "metadata": {},
     "output_type": "execute_result"
    }
   ],
   "source": [
    "df2.head(5)"
   ]
  },
  {
   "cell_type": "code",
   "execution_count": 6,
   "metadata": {
    "collapsed": true
   },
   "outputs": [],
   "source": [
    "#merge the databases together"
   ]
  },
  {
   "cell_type": "code",
   "execution_count": 7,
   "metadata": {},
   "outputs": [
    {
     "data": {
      "text/html": [
       "<div>\n",
       "<style>\n",
       "    .dataframe thead tr:only-child th {\n",
       "        text-align: right;\n",
       "    }\n",
       "\n",
       "    .dataframe thead th {\n",
       "        text-align: left;\n",
       "    }\n",
       "\n",
       "    .dataframe tbody tr th {\n",
       "        vertical-align: top;\n",
       "    }\n",
       "</style>\n",
       "<table border=\"1\" class=\"dataframe\">\n",
       "  <thead>\n",
       "    <tr style=\"text-align: right;\">\n",
       "      <th></th>\n",
       "      <th>Age</th>\n",
       "      <th>Gender</th>\n",
       "      <th>Item ID</th>\n",
       "      <th>Item Name</th>\n",
       "      <th>Price</th>\n",
       "      <th>SN</th>\n",
       "    </tr>\n",
       "  </thead>\n",
       "  <tbody>\n",
       "    <tr>\n",
       "      <th>0</th>\n",
       "      <td>38</td>\n",
       "      <td>Male</td>\n",
       "      <td>165</td>\n",
       "      <td>Bone Crushing Silver Skewer</td>\n",
       "      <td>3.37</td>\n",
       "      <td>Aelalis34</td>\n",
       "    </tr>\n",
       "    <tr>\n",
       "      <th>1</th>\n",
       "      <td>21</td>\n",
       "      <td>Male</td>\n",
       "      <td>119</td>\n",
       "      <td>Stormbringer, Dark Blade of Ending Misery</td>\n",
       "      <td>2.32</td>\n",
       "      <td>Eolo46</td>\n",
       "    </tr>\n",
       "    <tr>\n",
       "      <th>2</th>\n",
       "      <td>34</td>\n",
       "      <td>Male</td>\n",
       "      <td>174</td>\n",
       "      <td>Primitive Blade</td>\n",
       "      <td>2.46</td>\n",
       "      <td>Assastnya25</td>\n",
       "    </tr>\n",
       "    <tr>\n",
       "      <th>3</th>\n",
       "      <td>21</td>\n",
       "      <td>Male</td>\n",
       "      <td>92</td>\n",
       "      <td>Final Critic</td>\n",
       "      <td>1.36</td>\n",
       "      <td>Pheusrical25</td>\n",
       "    </tr>\n",
       "    <tr>\n",
       "      <th>4</th>\n",
       "      <td>23</td>\n",
       "      <td>Male</td>\n",
       "      <td>63</td>\n",
       "      <td>Stormfury Mace</td>\n",
       "      <td>1.27</td>\n",
       "      <td>Aela59</td>\n",
       "    </tr>\n",
       "  </tbody>\n",
       "</table>\n",
       "</div>"
      ],
      "text/plain": [
       "   Age Gender  Item ID                                  Item Name  Price  \\\n",
       "0   38   Male      165                Bone Crushing Silver Skewer   3.37   \n",
       "1   21   Male      119  Stormbringer, Dark Blade of Ending Misery   2.32   \n",
       "2   34   Male      174                            Primitive Blade   2.46   \n",
       "3   21   Male       92                               Final Critic   1.36   \n",
       "4   23   Male       63                             Stormfury Mace   1.27   \n",
       "\n",
       "             SN  \n",
       "0     Aelalis34  \n",
       "1        Eolo46  \n",
       "2   Assastnya25  \n",
       "3  Pheusrical25  \n",
       "4        Aela59  "
      ]
     },
     "execution_count": 7,
     "metadata": {},
     "output_type": "execute_result"
    }
   ],
   "source": [
    "merged_df = df1.append(df2, ignore_index = True)\n",
    "merged_df.head()"
   ]
  },
  {
   "cell_type": "code",
   "execution_count": 8,
   "metadata": {},
   "outputs": [
    {
     "data": {
      "text/plain": [
       "Index(['Age', 'Gender', 'Item ID', 'Item Name', 'Price', 'SN'], dtype='object')"
      ]
     },
     "execution_count": 8,
     "metadata": {},
     "output_type": "execute_result"
    }
   ],
   "source": [
    "#column list for reference\n",
    "merged_df.columns"
   ]
  },
  {
   "cell_type": "code",
   "execution_count": 9,
   "metadata": {},
   "outputs": [
    {
     "data": {
      "text/plain": [
       "612"
      ]
     },
     "execution_count": 9,
     "metadata": {},
     "output_type": "execute_result"
    }
   ],
   "source": [
    "#use len on SN value counts to find unique SNs\n",
    "player_count_total = len(merged_df[\"SN\"].value_counts())\n",
    "player_count_total\n"
   ]
  },
  {
   "cell_type": "code",
   "execution_count": 10,
   "metadata": {},
   "outputs": [
    {
     "data": {
      "text/plain": [
       "184"
      ]
     },
     "execution_count": 10,
     "metadata": {},
     "output_type": "execute_result"
    }
   ],
   "source": [
    "#purchasing analytics(number of unique items, avg purchase price, \n",
    "#total purchases, total revenue)\n",
    "num_of_unique = merged_df[\"Item ID\"].value_counts()\n",
    "num_of_unique = len(num_of_unique)\n",
    "num_of_unique"
   ]
  },
  {
   "cell_type": "code",
   "execution_count": 11,
   "metadata": {},
   "outputs": [
    {
     "data": {
      "text/plain": [
       "2.9305710955710955"
      ]
     },
     "execution_count": 11,
     "metadata": {},
     "output_type": "execute_result"
    }
   ],
   "source": [
    "#avg purchase price\n",
    "avg_pp = merged_df[\"Price\"].mean()\n",
    "avg_pp"
   ]
  },
  {
   "cell_type": "code",
   "execution_count": 12,
   "metadata": {},
   "outputs": [
    {
     "data": {
      "text/plain": [
       "858"
      ]
     },
     "execution_count": 12,
     "metadata": {},
     "output_type": "execute_result"
    }
   ],
   "source": [
    "#total purchases\n",
    "total_purchases = merged_df[\"Item ID\"].count()\n",
    "total_purchases"
   ]
  },
  {
   "cell_type": "code",
   "execution_count": 13,
   "metadata": {},
   "outputs": [
    {
     "data": {
      "text/plain": [
       "2514.4299999999998"
      ]
     },
     "execution_count": 13,
     "metadata": {},
     "output_type": "execute_result"
    }
   ],
   "source": [
    "#total revenue\n",
    "total_revenue = merged_df[\"Price\"].sum()\n",
    "total_revenue"
   ]
  },
  {
   "cell_type": "code",
   "execution_count": 14,
   "metadata": {
    "collapsed": true
   },
   "outputs": [],
   "source": [
    "#make a df for analytics\n",
    "purchase_analytics = pd.DataFrame({\n",
    "    \"Total Unique Players\" : [player_count_total],\n",
    "     \"Total Unique Items\" : [num_of_unique],\n",
    "     \"Average Purchase Price\" : [avg_pp],\n",
    "     \"Total Purchases\" : [total_purchases],\n",
    "     \"Total Revenue\" : [total_revenue]\n",
    "})\n"
   ]
  },
  {
   "cell_type": "code",
   "execution_count": 15,
   "metadata": {},
   "outputs": [
    {
     "data": {
      "text/html": [
       "<div>\n",
       "<style>\n",
       "    .dataframe thead tr:only-child th {\n",
       "        text-align: right;\n",
       "    }\n",
       "\n",
       "    .dataframe thead th {\n",
       "        text-align: left;\n",
       "    }\n",
       "\n",
       "    .dataframe tbody tr th {\n",
       "        vertical-align: top;\n",
       "    }\n",
       "</style>\n",
       "<table border=\"1\" class=\"dataframe\">\n",
       "  <thead>\n",
       "    <tr style=\"text-align: right;\">\n",
       "      <th></th>\n",
       "      <th>Average Purchase Price</th>\n",
       "      <th>Total Purchases</th>\n",
       "      <th>Total Revenue</th>\n",
       "      <th>Total Unique Items</th>\n",
       "      <th>Total Unique Players</th>\n",
       "    </tr>\n",
       "  </thead>\n",
       "  <tbody>\n",
       "    <tr>\n",
       "      <th>0</th>\n",
       "      <td>$2.93</td>\n",
       "      <td>858</td>\n",
       "      <td>$2,514.43</td>\n",
       "      <td>184</td>\n",
       "      <td>612</td>\n",
       "    </tr>\n",
       "  </tbody>\n",
       "</table>\n",
       "</div>"
      ],
      "text/plain": [
       "  Average Purchase Price  Total Purchases Total Revenue  Total Unique Items  \\\n",
       "0                  $2.93              858     $2,514.43                 184   \n",
       "\n",
       "   Total Unique Players  \n",
       "0                   612  "
      ]
     },
     "execution_count": 15,
     "metadata": {},
     "output_type": "execute_result"
    }
   ],
   "source": [
    "#improve formatting\n",
    "purchase_analytics[\"Average Purchase Price\"] = purchase_analytics[\"Average Purchase Price\"].map(\"${0:,.2f}\".format)\n",
    "purchase_analytics[\"Total Purchases\"] = purchase_analytics[\"Total Purchases\"]\n",
    "purchase_analytics[\"Total Revenue\"] = purchase_analytics[\"Total Revenue\"].map(\"${0:,.2f}\".format)\n",
    "purchase_analytics"
   ]
  },
  {
   "cell_type": "code",
   "execution_count": 16,
   "metadata": {
    "collapsed": true
   },
   "outputs": [],
   "source": [
    "#gender demographics(% count male, female, other/ndc)\n",
    "#total members via length of unique screennames\n",
    "total_members = len(merged_df[\"SN\"].value_counts())\n",
    "#make a filter for only males\n",
    "male_filter = merged_df[\"Gender\"] == \"Male\"\n",
    "#find males\n",
    "male_count = merged_df.loc[male_filter,:]\n",
    "#find total unique males\n",
    "male_count = len(male_count[\"SN\"].value_counts())\n",
    "#make a filter for females\n",
    "female_filter = merged_df[\"Gender\"] == \"Female\"\n",
    "#find females\n",
    "female_count = merged_df.loc[female_filter,:]\n",
    "#find total unique females\n",
    "female_count = len(female_count[\"SN\"].value_counts())\n",
    "other_filter = merged_df[\"Gender\"] == \"Other / Non-Disclosed\"\n",
    "other_count = total_members - male_count - female_count\n",
    "\n",
    "\n",
    "\n"
   ]
  },
  {
   "cell_type": "code",
   "execution_count": 17,
   "metadata": {},
   "outputs": [
    {
     "data": {
      "text/plain": [
       "0.8137254901960784"
      ]
     },
     "execution_count": 17,
     "metadata": {},
     "output_type": "execute_result"
    }
   ],
   "source": [
    "#% count male\n",
    "percent_male = male_count / total_members\n",
    "percent_male"
   ]
  },
  {
   "cell_type": "code",
   "execution_count": 18,
   "metadata": {},
   "outputs": [
    {
     "data": {
      "text/plain": [
       "0.1830065359477124"
      ]
     },
     "execution_count": 18,
     "metadata": {},
     "output_type": "execute_result"
    }
   ],
   "source": [
    "#% count female\n",
    "percent_female = female_count / total_members\n",
    "percent_female"
   ]
  },
  {
   "cell_type": "code",
   "execution_count": 19,
   "metadata": {},
   "outputs": [
    {
     "data": {
      "text/plain": [
       "0.0032679738562091504"
      ]
     },
     "execution_count": 19,
     "metadata": {},
     "output_type": "execute_result"
    }
   ],
   "source": [
    "#% other \n",
    "other_percent = other_count / total_members\n",
    "other_percent"
   ]
  },
  {
   "cell_type": "code",
   "execution_count": 20,
   "metadata": {},
   "outputs": [
    {
     "data": {
      "text/html": [
       "<div>\n",
       "<style>\n",
       "    .dataframe thead tr:only-child th {\n",
       "        text-align: right;\n",
       "    }\n",
       "\n",
       "    .dataframe thead th {\n",
       "        text-align: left;\n",
       "    }\n",
       "\n",
       "    .dataframe tbody tr th {\n",
       "        vertical-align: top;\n",
       "    }\n",
       "</style>\n",
       "<table border=\"1\" class=\"dataframe\">\n",
       "  <thead>\n",
       "    <tr style=\"text-align: right;\">\n",
       "      <th></th>\n",
       "      <th>Percentage of Gender</th>\n",
       "      <th>Total Members</th>\n",
       "    </tr>\n",
       "  </thead>\n",
       "  <tbody>\n",
       "    <tr>\n",
       "      <th>Male</th>\n",
       "      <td>81.37%</td>\n",
       "      <td>498</td>\n",
       "    </tr>\n",
       "    <tr>\n",
       "      <th>Female</th>\n",
       "      <td>18.30%</td>\n",
       "      <td>112</td>\n",
       "    </tr>\n",
       "    <tr>\n",
       "      <th>Other</th>\n",
       "      <td>0.33%</td>\n",
       "      <td>2</td>\n",
       "    </tr>\n",
       "  </tbody>\n",
       "</table>\n",
       "</div>"
      ],
      "text/plain": [
       "       Percentage of Gender  Total Members\n",
       "Male                 81.37%            498\n",
       "Female               18.30%            112\n",
       "Other                 0.33%              2"
      ]
     },
     "execution_count": 20,
     "metadata": {},
     "output_type": "execute_result"
    }
   ],
   "source": [
    "#make a new df with this info\n",
    "data = [{\"Total Members\" : male_count, \"Percentage of Gender\" : percent_male\n",
    "        },{\"Total Members\" : female_count , \"Percentage of Gender\" : percent_female\n",
    "          },\n",
    "        {\"Total Members\" : other_count , \"Percentage of Gender\" : other_percent}]\n",
    "gender_df = pd.DataFrame(data, index = [\"Male\",\"Female\",\"Other\"])\n",
    "gender_df[\"Percentage of Gender\"] = gender_df[\"Percentage of Gender\"] * 100\n",
    "gender_df[\"Percentage of Gender\"] = gender_df[\"Percentage of Gender\"].map(\"{0:.2f}%\".format)\n",
    "gender_df"
   ]
  },
  {
   "cell_type": "code",
   "execution_count": 21,
   "metadata": {},
   "outputs": [
    {
     "data": {
      "text/plain": [
       "12"
      ]
     },
     "execution_count": 21,
     "metadata": {},
     "output_type": "execute_result"
    }
   ],
   "source": [
    "#gender analytics.. find purchase count, avg pp,total value, normalized total\n",
    "male_purchase_count = merged_df.loc[male_filter].count()[\"Item ID\"]\n",
    "male_purchase_count\n",
    "#female purchase count\n",
    "female_purchase_count = merged_df.loc[female_filter].count()[\"Item ID\"]\n",
    "female_purchase_count\n",
    "#other purchase count \n",
    "other_purchase_count = total_purchases - (male_purchase_count + female_purchase_count)\n",
    "other_purchase_count\n"
   ]
  },
  {
   "cell_type": "code",
   "execution_count": 22,
   "metadata": {},
   "outputs": [
    {
     "data": {
      "text/plain": [
       "3.1549999999999994"
      ]
     },
     "execution_count": 22,
     "metadata": {},
     "output_type": "execute_result"
    }
   ],
   "source": [
    "#average purchase price per gender\n",
    "male_avg_pp = merged_df.loc[male_filter].mean()[\"Price\"]\n",
    "male_avg_pp\n",
    "#female\n",
    "female_avg_pp = merged_df.loc[female_filter].mean()[\"Price\"]\n",
    "female_avg_pp\n",
    "#other\n",
    "other_avg_pp = merged_df.loc[other_filter].mean()[\"Price\"]\n",
    "other_avg_pp\n"
   ]
  },
  {
   "cell_type": "code",
   "execution_count": 23,
   "metadata": {},
   "outputs": [
    {
     "data": {
      "text/plain": [
       "37.85999999999999"
      ]
     },
     "execution_count": 23,
     "metadata": {},
     "output_type": "execute_result"
    }
   ],
   "source": [
    "#total purchase value per gender\n",
    "male_sum_purchase = merged_df.loc[male_filter].sum()[\"Price\"]\n",
    "male_sum_purchase\n",
    "#female\n",
    "female_sum_purchase = merged_df.loc[female_filter].sum()[\"Price\"]\n",
    "female_sum_purchase\n",
    "#other\n",
    "other_sum_purchase = merged_df.loc[other_filter].sum()[\"Price\"]\n",
    "other_sum_purchase\n"
   ]
  },
  {
   "cell_type": "code",
   "execution_count": 24,
   "metadata": {},
   "outputs": [
    {
     "data": {
      "text/plain": [
       "18.929999999999996"
      ]
     },
     "execution_count": 24,
     "metadata": {},
     "output_type": "execute_result"
    }
   ],
   "source": [
    "#normalize total per gender\n",
    "male_normalized = male_sum_purchase / male_count\n",
    "male_normalized\n",
    "#female\n",
    "female_normalized = female_sum_purchase / female_count\n",
    "female_normalized\n",
    "#other\n",
    "other_normalized = other_sum_purchase / other_count\n",
    "other_normalized"
   ]
  },
  {
   "cell_type": "code",
   "execution_count": 25,
   "metadata": {},
   "outputs": [
    {
     "data": {
      "text/html": [
       "<div>\n",
       "<style>\n",
       "    .dataframe thead tr:only-child th {\n",
       "        text-align: right;\n",
       "    }\n",
       "\n",
       "    .dataframe thead th {\n",
       "        text-align: left;\n",
       "    }\n",
       "\n",
       "    .dataframe tbody tr th {\n",
       "        vertical-align: top;\n",
       "    }\n",
       "</style>\n",
       "<table border=\"1\" class=\"dataframe\">\n",
       "  <thead>\n",
       "    <tr style=\"text-align: right;\">\n",
       "      <th></th>\n",
       "      <th>Average Purchase</th>\n",
       "      <th>Normalized Purchase Amount</th>\n",
       "      <th>Total Purchase Amount</th>\n",
       "      <th>Total Purchases</th>\n",
       "    </tr>\n",
       "  </thead>\n",
       "  <tbody>\n",
       "    <tr>\n",
       "      <th>Male</th>\n",
       "      <td>2.944448</td>\n",
       "      <td>4.121044</td>\n",
       "      <td>2052.28</td>\n",
       "      <td>697</td>\n",
       "    </tr>\n",
       "    <tr>\n",
       "      <th>Female</th>\n",
       "      <td>2.847584</td>\n",
       "      <td>3.788304</td>\n",
       "      <td>424.29</td>\n",
       "      <td>149</td>\n",
       "    </tr>\n",
       "    <tr>\n",
       "      <th>Other</th>\n",
       "      <td>3.155000</td>\n",
       "      <td>18.930000</td>\n",
       "      <td>37.86</td>\n",
       "      <td>12</td>\n",
       "    </tr>\n",
       "  </tbody>\n",
       "</table>\n",
       "</div>"
      ],
      "text/plain": [
       "        Average Purchase  Normalized Purchase Amount  Total Purchase Amount  \\\n",
       "Male            2.944448                    4.121044                2052.28   \n",
       "Female          2.847584                    3.788304                 424.29   \n",
       "Other           3.155000                   18.930000                  37.86   \n",
       "\n",
       "        Total Purchases  \n",
       "Male                697  \n",
       "Female              149  \n",
       "Other                12  "
      ]
     },
     "execution_count": 25,
     "metadata": {},
     "output_type": "execute_result"
    }
   ],
   "source": [
    "#make a new DF with all this info\n",
    "gender_data = [{\"Total Purchases\" : male_purchase_count, \"Average Purchase\"\n",
    "               : male_avg_pp, \"Total Purchase Amount\" : male_sum_purchase,\n",
    "               \"Normalized Purchase Amount\" : male_normalized},\n",
    "              {\"Total Purchases\" : female_purchase_count, \"Average Purchase\"\n",
    "               : female_avg_pp, \"Total Purchase Amount\" : female_sum_purchase,\n",
    "               \"Normalized Purchase Amount\" : female_normalized},\n",
    "              {\"Total Purchases\" : other_purchase_count, \"Average Purchase\"\n",
    "               : other_avg_pp, \"Total Purchase Amount\" : other_sum_purchase,\n",
    "               \"Normalized Purchase Amount\" : other_normalized}]\n",
    "gender_analytics_df = pd.DataFrame(gender_data, index = [\"Male\", \"Female\",\"Other\"])\n",
    "gender_analytics_df"
   ]
  },
  {
   "cell_type": "code",
   "execution_count": 26,
   "metadata": {},
   "outputs": [
    {
     "data": {
      "text/html": [
       "<div>\n",
       "<style>\n",
       "    .dataframe thead tr:only-child th {\n",
       "        text-align: right;\n",
       "    }\n",
       "\n",
       "    .dataframe thead th {\n",
       "        text-align: left;\n",
       "    }\n",
       "\n",
       "    .dataframe tbody tr th {\n",
       "        vertical-align: top;\n",
       "    }\n",
       "</style>\n",
       "<table border=\"1\" class=\"dataframe\">\n",
       "  <thead>\n",
       "    <tr style=\"text-align: right;\">\n",
       "      <th></th>\n",
       "      <th>Average Purchase</th>\n",
       "      <th>Normalized Purchase Amount</th>\n",
       "      <th>Total Purchase Amount</th>\n",
       "      <th>Total Purchases</th>\n",
       "    </tr>\n",
       "  </thead>\n",
       "  <tbody>\n",
       "    <tr>\n",
       "      <th>Male</th>\n",
       "      <td>$2.94</td>\n",
       "      <td>$4.12</td>\n",
       "      <td>$2,052.28</td>\n",
       "      <td>697</td>\n",
       "    </tr>\n",
       "    <tr>\n",
       "      <th>Female</th>\n",
       "      <td>$2.85</td>\n",
       "      <td>$3.79</td>\n",
       "      <td>$424.29</td>\n",
       "      <td>149</td>\n",
       "    </tr>\n",
       "    <tr>\n",
       "      <th>Other</th>\n",
       "      <td>$3.15</td>\n",
       "      <td>$18.93</td>\n",
       "      <td>$37.86</td>\n",
       "      <td>12</td>\n",
       "    </tr>\n",
       "  </tbody>\n",
       "</table>\n",
       "</div>"
      ],
      "text/plain": [
       "       Average Purchase Normalized Purchase Amount Total Purchase Amount  \\\n",
       "Male              $2.94                      $4.12             $2,052.28   \n",
       "Female            $2.85                      $3.79               $424.29   \n",
       "Other             $3.15                     $18.93                $37.86   \n",
       "\n",
       "        Total Purchases  \n",
       "Male                697  \n",
       "Female              149  \n",
       "Other                12  "
      ]
     },
     "execution_count": 26,
     "metadata": {},
     "output_type": "execute_result"
    }
   ],
   "source": [
    "#format some .map(\"${0:,.2f}\".format)\n",
    "gender_analytics_df[\"Average Purchase\"] = gender_analytics_df[\"Average Purchase\"].map(\"${0:,.2f}\".format)\n",
    "gender_analytics_df[\"Normalized Purchase Amount\"] = gender_analytics_df[\"Normalized Purchase Amount\"].map(\"${0:,.2f}\".format)\n",
    "gender_analytics_df[\"Total Purchase Amount\"] = gender_analytics_df[\"Total Purchase Amount\"].map(\"${0:,.2f}\".format)\n",
    "gender_analytics_df"
   ]
  },
  {
   "cell_type": "code",
   "execution_count": 27,
   "metadata": {},
   "outputs": [
    {
     "data": {
      "text/html": [
       "<div>\n",
       "<style>\n",
       "    .dataframe thead tr:only-child th {\n",
       "        text-align: right;\n",
       "    }\n",
       "\n",
       "    .dataframe thead th {\n",
       "        text-align: left;\n",
       "    }\n",
       "\n",
       "    .dataframe tbody tr th {\n",
       "        vertical-align: top;\n",
       "    }\n",
       "</style>\n",
       "<table border=\"1\" class=\"dataframe\">\n",
       "  <thead>\n",
       "    <tr style=\"text-align: right;\">\n",
       "      <th></th>\n",
       "      <th>Age</th>\n",
       "      <th>Gender</th>\n",
       "      <th>Item ID</th>\n",
       "      <th>Item Name</th>\n",
       "      <th>Price</th>\n",
       "      <th>SN</th>\n",
       "      <th>Age Group</th>\n",
       "    </tr>\n",
       "  </thead>\n",
       "  <tbody>\n",
       "    <tr>\n",
       "      <th>0</th>\n",
       "      <td>38</td>\n",
       "      <td>Male</td>\n",
       "      <td>165</td>\n",
       "      <td>Bone Crushing Silver Skewer</td>\n",
       "      <td>3.37</td>\n",
       "      <td>Aelalis34</td>\n",
       "      <td>35 - 39</td>\n",
       "    </tr>\n",
       "    <tr>\n",
       "      <th>1</th>\n",
       "      <td>21</td>\n",
       "      <td>Male</td>\n",
       "      <td>119</td>\n",
       "      <td>Stormbringer, Dark Blade of Ending Misery</td>\n",
       "      <td>2.32</td>\n",
       "      <td>Eolo46</td>\n",
       "      <td>20 - 24</td>\n",
       "    </tr>\n",
       "    <tr>\n",
       "      <th>2</th>\n",
       "      <td>34</td>\n",
       "      <td>Male</td>\n",
       "      <td>174</td>\n",
       "      <td>Primitive Blade</td>\n",
       "      <td>2.46</td>\n",
       "      <td>Assastnya25</td>\n",
       "      <td>30 - 34</td>\n",
       "    </tr>\n",
       "    <tr>\n",
       "      <th>3</th>\n",
       "      <td>21</td>\n",
       "      <td>Male</td>\n",
       "      <td>92</td>\n",
       "      <td>Final Critic</td>\n",
       "      <td>1.36</td>\n",
       "      <td>Pheusrical25</td>\n",
       "      <td>20 - 24</td>\n",
       "    </tr>\n",
       "    <tr>\n",
       "      <th>4</th>\n",
       "      <td>23</td>\n",
       "      <td>Male</td>\n",
       "      <td>63</td>\n",
       "      <td>Stormfury Mace</td>\n",
       "      <td>1.27</td>\n",
       "      <td>Aela59</td>\n",
       "      <td>20 - 24</td>\n",
       "    </tr>\n",
       "  </tbody>\n",
       "</table>\n",
       "</div>"
      ],
      "text/plain": [
       "   Age Gender  Item ID                                  Item Name  Price  \\\n",
       "0   38   Male      165                Bone Crushing Silver Skewer   3.37   \n",
       "1   21   Male      119  Stormbringer, Dark Blade of Ending Misery   2.32   \n",
       "2   34   Male      174                            Primitive Blade   2.46   \n",
       "3   21   Male       92                               Final Critic   1.36   \n",
       "4   23   Male       63                             Stormfury Mace   1.27   \n",
       "\n",
       "             SN Age Group  \n",
       "0     Aelalis34   35 - 39  \n",
       "1        Eolo46   20 - 24  \n",
       "2   Assastnya25   30 - 34  \n",
       "3  Pheusrical25   20 - 24  \n",
       "4        Aela59   20 - 24  "
      ]
     },
     "execution_count": 27,
     "metadata": {},
     "output_type": "execute_result"
    }
   ],
   "source": [
    "#age demographics, use bins per 4 years. <10,10-14,15-19,etc\n",
    "age_bins = [0,10,15,20,25,30,35,40,1000]\n",
    "age_labels = [\"Less than 10\",\"10 - 14\",\"15 - 19\",\"20 - 24\",\"25 - 29\",\n",
    "             \"30 - 34\",\"35 - 39\",\"40 and older\"]\n",
    "pd.cut(merged_df[\"Age\"],age_bins,labels = age_labels )\n",
    "merged_df[\"Age Group\"] = pd.cut(merged_df[\"Age\"],age_bins,labels = age_labels )\n",
    "merged_df.head()\n"
   ]
  },
  {
   "cell_type": "code",
   "execution_count": 28,
   "metadata": {
    "collapsed": true
   },
   "outputs": [],
   "source": [
    "#group by object\n",
    "grouped_age = merged_df.groupby(\"Age Group\")\n",
    "#total purchases by age\n",
    "purchases_by_age = grouped_age[\"Price\"].count()"
   ]
  },
  {
   "cell_type": "code",
   "execution_count": 29,
   "metadata": {},
   "outputs": [
    {
     "data": {
      "text/plain": [
       "Age Group\n",
       "Less than 10    2.984865\n",
       "10 - 14         2.882439\n",
       "15 - 19         2.859951\n",
       "20 - 24         2.967544\n",
       "25 - 29         2.882375\n",
       "30 - 34         2.995846\n",
       "35 - 39         3.004286\n",
       "40 and older    2.880000\n",
       "Name: Price, dtype: float64"
      ]
     },
     "execution_count": 29,
     "metadata": {},
     "output_type": "execute_result"
    }
   ],
   "source": [
    "#calculate the mean\n",
    "avg_pp_by_age = grouped_age[\"Price\"].mean()\n",
    "avg_pp_by_age"
   ]
  },
  {
   "cell_type": "code",
   "execution_count": 30,
   "metadata": {},
   "outputs": [
    {
     "data": {
      "text/plain": [
       "Age Group\n",
       "Less than 10     110.44\n",
       "10 - 14          236.36\n",
       "15 - 19          583.43\n",
       "20 - 24         1003.03\n",
       "25 - 29          230.59\n",
       "30 - 34          194.73\n",
       "35 - 39          147.21\n",
       "40 and older       8.64\n",
       "Name: Price, dtype: float64"
      ]
     },
     "execution_count": 30,
     "metadata": {},
     "output_type": "execute_result"
    }
   ],
   "source": [
    "#sum the total values\n",
    "age_total_value = grouped_age[\"Price\"].sum()\n",
    "age_total_value"
   ]
  },
  {
   "cell_type": "code",
   "execution_count": 31,
   "metadata": {},
   "outputs": [
    {
     "data": {
      "text/plain": [
       "Age Group\n",
       "Less than 10     27\n",
       "10 - 14          57\n",
       "15 - 19         159\n",
       "20 - 24         259\n",
       "25 - 29          56\n",
       "30 - 34          50\n",
       "35 - 39          30\n",
       "40 and older      3\n",
       "Name: SN, dtype: int64"
      ]
     },
     "execution_count": 31,
     "metadata": {},
     "output_type": "execute_result"
    }
   ],
   "source": [
    "#find normalized value\n",
    "age_demo_total_players = grouped_age[\"SN\"].nunique()\n",
    "age_demo_total_players\n"
   ]
  },
  {
   "cell_type": "code",
   "execution_count": 32,
   "metadata": {},
   "outputs": [
    {
     "data": {
      "text/plain": [
       "Age Group\n",
       "Less than 10    4.090370\n",
       "10 - 14         4.146667\n",
       "15 - 19         3.669371\n",
       "20 - 24         3.872703\n",
       "25 - 29         4.117679\n",
       "30 - 34         3.894600\n",
       "35 - 39         4.907000\n",
       "40 and older    2.880000\n",
       "dtype: float64"
      ]
     },
     "execution_count": 32,
     "metadata": {},
     "output_type": "execute_result"
    }
   ],
   "source": [
    "#find normalized values\n",
    "normalized_age_value = age_total_value / age_demo_total_players\n",
    "normalized_age_value"
   ]
  },
  {
   "cell_type": "code",
   "execution_count": 33,
   "metadata": {},
   "outputs": [
    {
     "data": {
      "text/html": [
       "<div>\n",
       "<style>\n",
       "    .dataframe thead tr:only-child th {\n",
       "        text-align: right;\n",
       "    }\n",
       "\n",
       "    .dataframe thead th {\n",
       "        text-align: left;\n",
       "    }\n",
       "\n",
       "    .dataframe tbody tr th {\n",
       "        vertical-align: top;\n",
       "    }\n",
       "</style>\n",
       "<table border=\"1\" class=\"dataframe\">\n",
       "  <thead>\n",
       "    <tr style=\"text-align: right;\">\n",
       "      <th></th>\n",
       "      <th>Average Purchase by Age</th>\n",
       "      <th>Normalized Value</th>\n",
       "      <th>Total Purchase Value</th>\n",
       "      <th>Total Purchases</th>\n",
       "    </tr>\n",
       "    <tr>\n",
       "      <th>Age Group</th>\n",
       "      <th></th>\n",
       "      <th></th>\n",
       "      <th></th>\n",
       "      <th></th>\n",
       "    </tr>\n",
       "  </thead>\n",
       "  <tbody>\n",
       "    <tr>\n",
       "      <th>Less than 10</th>\n",
       "      <td>2.984865</td>\n",
       "      <td>4.090370</td>\n",
       "      <td>110.44</td>\n",
       "      <td>37</td>\n",
       "    </tr>\n",
       "    <tr>\n",
       "      <th>10 - 14</th>\n",
       "      <td>2.882439</td>\n",
       "      <td>4.146667</td>\n",
       "      <td>236.36</td>\n",
       "      <td>82</td>\n",
       "    </tr>\n",
       "    <tr>\n",
       "      <th>15 - 19</th>\n",
       "      <td>2.859951</td>\n",
       "      <td>3.669371</td>\n",
       "      <td>583.43</td>\n",
       "      <td>204</td>\n",
       "    </tr>\n",
       "    <tr>\n",
       "      <th>20 - 24</th>\n",
       "      <td>2.967544</td>\n",
       "      <td>3.872703</td>\n",
       "      <td>1003.03</td>\n",
       "      <td>338</td>\n",
       "    </tr>\n",
       "    <tr>\n",
       "      <th>25 - 29</th>\n",
       "      <td>2.882375</td>\n",
       "      <td>4.117679</td>\n",
       "      <td>230.59</td>\n",
       "      <td>80</td>\n",
       "    </tr>\n",
       "    <tr>\n",
       "      <th>30 - 34</th>\n",
       "      <td>2.995846</td>\n",
       "      <td>3.894600</td>\n",
       "      <td>194.73</td>\n",
       "      <td>65</td>\n",
       "    </tr>\n",
       "    <tr>\n",
       "      <th>35 - 39</th>\n",
       "      <td>3.004286</td>\n",
       "      <td>4.907000</td>\n",
       "      <td>147.21</td>\n",
       "      <td>49</td>\n",
       "    </tr>\n",
       "    <tr>\n",
       "      <th>40 and older</th>\n",
       "      <td>2.880000</td>\n",
       "      <td>2.880000</td>\n",
       "      <td>8.64</td>\n",
       "      <td>3</td>\n",
       "    </tr>\n",
       "  </tbody>\n",
       "</table>\n",
       "</div>"
      ],
      "text/plain": [
       "              Average Purchase by Age  Normalized Value  Total Purchase Value  \\\n",
       "Age Group                                                                       \n",
       "Less than 10                 2.984865          4.090370                110.44   \n",
       "10 - 14                      2.882439          4.146667                236.36   \n",
       "15 - 19                      2.859951          3.669371                583.43   \n",
       "20 - 24                      2.967544          3.872703               1003.03   \n",
       "25 - 29                      2.882375          4.117679                230.59   \n",
       "30 - 34                      2.995846          3.894600                194.73   \n",
       "35 - 39                      3.004286          4.907000                147.21   \n",
       "40 and older                 2.880000          2.880000                  8.64   \n",
       "\n",
       "              Total Purchases  \n",
       "Age Group                      \n",
       "Less than 10               37  \n",
       "10 - 14                    82  \n",
       "15 - 19                   204  \n",
       "20 - 24                   338  \n",
       "25 - 29                    80  \n",
       "30 - 34                    65  \n",
       "35 - 39                    49  \n",
       "40 and older                3  "
      ]
     },
     "execution_count": 33,
     "metadata": {},
     "output_type": "execute_result"
    }
   ],
   "source": [
    "age_demo_data = {\"Total Purchases\" : purchases_by_age,\n",
    "                \"Average Purchase by Age\" : avg_pp_by_age,\n",
    "                \"Total Purchase Value\" : age_total_value,\n",
    "                \"Normalized Value\" : normalized_age_value}\n",
    "age_demo_df = pd.DataFrame(age_demo_data)\n",
    "age_demo_df"
   ]
  },
  {
   "cell_type": "code",
   "execution_count": 34,
   "metadata": {},
   "outputs": [
    {
     "data": {
      "text/html": [
       "<div>\n",
       "<style>\n",
       "    .dataframe thead tr:only-child th {\n",
       "        text-align: right;\n",
       "    }\n",
       "\n",
       "    .dataframe thead th {\n",
       "        text-align: left;\n",
       "    }\n",
       "\n",
       "    .dataframe tbody tr th {\n",
       "        vertical-align: top;\n",
       "    }\n",
       "</style>\n",
       "<table border=\"1\" class=\"dataframe\">\n",
       "  <thead>\n",
       "    <tr style=\"text-align: right;\">\n",
       "      <th></th>\n",
       "      <th>Average Purchase by Age</th>\n",
       "      <th>Normalized Value</th>\n",
       "      <th>Total Purchase Value</th>\n",
       "      <th>Total Purchases</th>\n",
       "    </tr>\n",
       "    <tr>\n",
       "      <th>Age Group</th>\n",
       "      <th></th>\n",
       "      <th></th>\n",
       "      <th></th>\n",
       "      <th></th>\n",
       "    </tr>\n",
       "  </thead>\n",
       "  <tbody>\n",
       "    <tr>\n",
       "      <th>Less than 10</th>\n",
       "      <td>$2.98</td>\n",
       "      <td>$4.09</td>\n",
       "      <td>$110.44</td>\n",
       "      <td>37</td>\n",
       "    </tr>\n",
       "    <tr>\n",
       "      <th>10 - 14</th>\n",
       "      <td>$2.88</td>\n",
       "      <td>$4.15</td>\n",
       "      <td>$236.36</td>\n",
       "      <td>82</td>\n",
       "    </tr>\n",
       "    <tr>\n",
       "      <th>15 - 19</th>\n",
       "      <td>$2.86</td>\n",
       "      <td>$3.67</td>\n",
       "      <td>$583.43</td>\n",
       "      <td>204</td>\n",
       "    </tr>\n",
       "    <tr>\n",
       "      <th>20 - 24</th>\n",
       "      <td>$2.97</td>\n",
       "      <td>$3.87</td>\n",
       "      <td>$1,003.03</td>\n",
       "      <td>338</td>\n",
       "    </tr>\n",
       "    <tr>\n",
       "      <th>25 - 29</th>\n",
       "      <td>$2.88</td>\n",
       "      <td>$4.12</td>\n",
       "      <td>$230.59</td>\n",
       "      <td>80</td>\n",
       "    </tr>\n",
       "    <tr>\n",
       "      <th>30 - 34</th>\n",
       "      <td>$3.00</td>\n",
       "      <td>$3.89</td>\n",
       "      <td>$194.73</td>\n",
       "      <td>65</td>\n",
       "    </tr>\n",
       "    <tr>\n",
       "      <th>35 - 39</th>\n",
       "      <td>$3.00</td>\n",
       "      <td>$4.91</td>\n",
       "      <td>$147.21</td>\n",
       "      <td>49</td>\n",
       "    </tr>\n",
       "    <tr>\n",
       "      <th>40 and older</th>\n",
       "      <td>$2.88</td>\n",
       "      <td>$2.88</td>\n",
       "      <td>$8.64</td>\n",
       "      <td>3</td>\n",
       "    </tr>\n",
       "  </tbody>\n",
       "</table>\n",
       "</div>"
      ],
      "text/plain": [
       "             Average Purchase by Age Normalized Value Total Purchase Value  \\\n",
       "Age Group                                                                    \n",
       "Less than 10                   $2.98            $4.09              $110.44   \n",
       "10 - 14                        $2.88            $4.15              $236.36   \n",
       "15 - 19                        $2.86            $3.67              $583.43   \n",
       "20 - 24                        $2.97            $3.87            $1,003.03   \n",
       "25 - 29                        $2.88            $4.12              $230.59   \n",
       "30 - 34                        $3.00            $3.89              $194.73   \n",
       "35 - 39                        $3.00            $4.91              $147.21   \n",
       "40 and older                   $2.88            $2.88                $8.64   \n",
       "\n",
       "              Total Purchases  \n",
       "Age Group                      \n",
       "Less than 10               37  \n",
       "10 - 14                    82  \n",
       "15 - 19                   204  \n",
       "20 - 24                   338  \n",
       "25 - 29                    80  \n",
       "30 - 34                    65  \n",
       "35 - 39                    49  \n",
       "40 and older                3  "
      ]
     },
     "execution_count": 34,
     "metadata": {},
     "output_type": "execute_result"
    }
   ],
   "source": [
    "#formatting\n",
    "age_demo_df[\"Average Purchase by Age\"] = age_demo_df[\"Average Purchase by Age\"].map(\"${0:,.2f}\".format)\n",
    "age_demo_df[\"Normalized Value\"] = age_demo_df[\"Normalized Value\"].map(\"${0:,.2f}\".format)\n",
    "age_demo_df[\"Total Purchase Value\"] = age_demo_df[\"Total Purchase Value\"].map(\"${0:,.2f}\".format)\n",
    "age_demo_df\n"
   ]
  },
  {
   "cell_type": "code",
   "execution_count": 35,
   "metadata": {},
   "outputs": [
    {
     "data": {
      "text/plain": [
       "SN\n",
       "Undirrala66      17.06\n",
       "Aerithllora36    15.10\n",
       "Saedue76         13.56\n",
       "Sondim43         13.02\n",
       "Mindimnya67      12.74\n",
       "Name: Price, dtype: float64"
      ]
     },
     "execution_count": 35,
     "metadata": {},
     "output_type": "execute_result"
    }
   ],
   "source": [
    "#top 5 spenders\n",
    "#group by SN\n",
    "grouped_df = merged_df.groupby(\"SN\")\n",
    "#sum prices by group\n",
    "grouped_df = grouped_df.sum()[\"Price\"]\n",
    "#sort, descending order\n",
    "grouped_df = grouped_df.sort_values(ascending = False)\n",
    "#print top 5\n",
    "grouped_df.head()"
   ]
  },
  {
   "cell_type": "code",
   "execution_count": 36,
   "metadata": {
    "collapsed": true
   },
   "outputs": [],
   "source": [
    "#find purchases per user\n",
    "undi = merged_df[\"SN\"] == \"Undirrala66\"\n",
    "undi = merged_df[undi][\"Item ID\"].count()\n",
    "aeri = merged_df[\"SN\"] == \"Aerithllora36\"\n",
    "aeri = merged_df[aeri][\"Item ID\"].count()\n",
    "saed = merged_df[\"SN\"] == \"Saedue76\"\n",
    "saed = merged_df[saed][\"Item ID\"].count()\n",
    "sond = merged_df[\"SN\"] == \"Sondim43\"\n",
    "sond = merged_df[sond][\"Item ID\"].count()\n",
    "mind = merged_df[\"SN\"] == \"Mindimnya67\"\n",
    "mind = merged_df[mind][\"Item ID\"].count()\n"
   ]
  },
  {
   "cell_type": "code",
   "execution_count": 37,
   "metadata": {
    "collapsed": true
   },
   "outputs": [],
   "source": [
    "#find total values for each person\n",
    "undi_total = merged_df[\"SN\"] == \"Undirrala66\"\n",
    "undi_total = merged_df[undi_total][\"Price\"].sum()\n",
    "aeri_total = merged_df[\"SN\"] == \"Aerithllora36\"\n",
    "aeri_total = merged_df[aeri_total][\"Price\"].sum()\n",
    "saed_total = merged_df[\"SN\"] == \"Saedue76\"\n",
    "saed_total = merged_df[saed_total][\"Price\"].sum()\n",
    "sond_total = merged_df[\"SN\"] == \"Sondim43\"\n",
    "sond_total = merged_df[sond_total][\"Price\"].sum()\n",
    "mind_total = merged_df[\"SN\"] == \"Mindimnya67\"\n",
    "mind_total = merged_df[mind_total][\"Price\"].sum()\n"
   ]
  },
  {
   "cell_type": "code",
   "execution_count": 38,
   "metadata": {
    "collapsed": true
   },
   "outputs": [],
   "source": [
    "#find averages \n",
    "undi_avg = undi_total / undi\n",
    "aeri_avg = aeri_total / aeri\n",
    "saed_avg = saed_total / saed\n",
    "sond_avg = sond_total / sond\n",
    "mind_avg = mind_total / mind"
   ]
  },
  {
   "cell_type": "code",
   "execution_count": 39,
   "metadata": {},
   "outputs": [
    {
     "data": {
      "text/html": [
       "<div>\n",
       "<style>\n",
       "    .dataframe thead tr:only-child th {\n",
       "        text-align: right;\n",
       "    }\n",
       "\n",
       "    .dataframe thead th {\n",
       "        text-align: left;\n",
       "    }\n",
       "\n",
       "    .dataframe tbody tr th {\n",
       "        vertical-align: top;\n",
       "    }\n",
       "</style>\n",
       "<table border=\"1\" class=\"dataframe\">\n",
       "  <thead>\n",
       "    <tr style=\"text-align: right;\">\n",
       "      <th></th>\n",
       "      <th>Average Purchase</th>\n",
       "      <th>SN</th>\n",
       "      <th>Total Purchase Amount</th>\n",
       "      <th>Total Purchases</th>\n",
       "    </tr>\n",
       "  </thead>\n",
       "  <tbody>\n",
       "    <tr>\n",
       "      <th>First</th>\n",
       "      <td>3.412</td>\n",
       "      <td>Undirrala66</td>\n",
       "      <td>17.06</td>\n",
       "      <td>5</td>\n",
       "    </tr>\n",
       "    <tr>\n",
       "      <th>Second</th>\n",
       "      <td>3.775</td>\n",
       "      <td>Aerithllora36</td>\n",
       "      <td>15.10</td>\n",
       "      <td>4</td>\n",
       "    </tr>\n",
       "    <tr>\n",
       "      <th>Third</th>\n",
       "      <td>3.390</td>\n",
       "      <td>Saedue76</td>\n",
       "      <td>13.56</td>\n",
       "      <td>4</td>\n",
       "    </tr>\n",
       "    <tr>\n",
       "      <th>Fourth</th>\n",
       "      <td>3.255</td>\n",
       "      <td>Sondim43</td>\n",
       "      <td>13.02</td>\n",
       "      <td>4</td>\n",
       "    </tr>\n",
       "    <tr>\n",
       "      <th>Fifth</th>\n",
       "      <td>3.185</td>\n",
       "      <td>Mindimnya67</td>\n",
       "      <td>12.74</td>\n",
       "      <td>4</td>\n",
       "    </tr>\n",
       "  </tbody>\n",
       "</table>\n",
       "</div>"
      ],
      "text/plain": [
       "        Average Purchase             SN  Total Purchase Amount  \\\n",
       "First              3.412    Undirrala66                  17.06   \n",
       "Second             3.775  Aerithllora36                  15.10   \n",
       "Third              3.390       Saedue76                  13.56   \n",
       "Fourth             3.255       Sondim43                  13.02   \n",
       "Fifth              3.185    Mindimnya67                  12.74   \n",
       "\n",
       "        Total Purchases  \n",
       "First                 5  \n",
       "Second                4  \n",
       "Third                 4  \n",
       "Fourth                4  \n",
       "Fifth                 4  "
      ]
     },
     "execution_count": 39,
     "metadata": {},
     "output_type": "execute_result"
    }
   ],
   "source": [
    "#make a df with all t his data\n",
    "spenders_data = {\"SN\" : [\"Undirrala66\",\"Aerithllora36\",\"Saedue76\",\"Sondim43\",\"Mindimnya67\"],\n",
    "                 \"Total Purchases\" : [undi,aeri,saed,sond,mind], \"Total Purchase Amount\" :\n",
    "                 [undi_total,aeri_total,saed_total,sond_total,mind_total],\n",
    "                 \"Average Purchase\" : [undi_avg,aeri_avg,saed_avg,sond_avg,mind_avg]}\n",
    "top_5_users_df = pd.DataFrame(spenders_data,index = [\"First\",\"Second\",\"Third\",\"Fourth\",\"Fifth\"])\n",
    "top_5_users_df"
   ]
  },
  {
   "cell_type": "code",
   "execution_count": 40,
   "metadata": {
    "scrolled": true
   },
   "outputs": [
    {
     "data": {
      "text/html": [
       "<div>\n",
       "<style>\n",
       "    .dataframe thead tr:only-child th {\n",
       "        text-align: right;\n",
       "    }\n",
       "\n",
       "    .dataframe thead th {\n",
       "        text-align: left;\n",
       "    }\n",
       "\n",
       "    .dataframe tbody tr th {\n",
       "        vertical-align: top;\n",
       "    }\n",
       "</style>\n",
       "<table border=\"1\" class=\"dataframe\">\n",
       "  <thead>\n",
       "    <tr style=\"text-align: right;\">\n",
       "      <th></th>\n",
       "      <th>Average Purchase</th>\n",
       "      <th>SN</th>\n",
       "      <th>Total Purchase Amount</th>\n",
       "      <th>Total Purchases</th>\n",
       "    </tr>\n",
       "  </thead>\n",
       "  <tbody>\n",
       "    <tr>\n",
       "      <th>First</th>\n",
       "      <td>$3.41</td>\n",
       "      <td>Undirrala66</td>\n",
       "      <td>$17.06</td>\n",
       "      <td>5</td>\n",
       "    </tr>\n",
       "    <tr>\n",
       "      <th>Second</th>\n",
       "      <td>$3.77</td>\n",
       "      <td>Aerithllora36</td>\n",
       "      <td>$15.10</td>\n",
       "      <td>4</td>\n",
       "    </tr>\n",
       "    <tr>\n",
       "      <th>Third</th>\n",
       "      <td>$3.39</td>\n",
       "      <td>Saedue76</td>\n",
       "      <td>$13.56</td>\n",
       "      <td>4</td>\n",
       "    </tr>\n",
       "    <tr>\n",
       "      <th>Fourth</th>\n",
       "      <td>$3.25</td>\n",
       "      <td>Sondim43</td>\n",
       "      <td>$13.02</td>\n",
       "      <td>4</td>\n",
       "    </tr>\n",
       "    <tr>\n",
       "      <th>Fifth</th>\n",
       "      <td>$3.18</td>\n",
       "      <td>Mindimnya67</td>\n",
       "      <td>$12.74</td>\n",
       "      <td>4</td>\n",
       "    </tr>\n",
       "  </tbody>\n",
       "</table>\n",
       "</div>"
      ],
      "text/plain": [
       "       Average Purchase             SN Total Purchase Amount  Total Purchases\n",
       "First             $3.41    Undirrala66                $17.06                5\n",
       "Second            $3.77  Aerithllora36                $15.10                4\n",
       "Third             $3.39       Saedue76                $13.56                4\n",
       "Fourth            $3.25       Sondim43                $13.02                4\n",
       "Fifth             $3.18    Mindimnya67                $12.74                4"
      ]
     },
     "execution_count": 40,
     "metadata": {},
     "output_type": "execute_result"
    }
   ],
   "source": [
    "#formatting\n",
    "top_5_users_df[\"Average Purchase\"] = top_5_users_df[\"Average Purchase\"].map(\"${0:,.2f}\".format)\n",
    "top_5_users_df[\"Total Purchase Amount\"] = top_5_users_df[\"Total Purchase Amount\"].map(\"${0:,.2f}\".format)\n",
    "top_5_users_df"
   ]
  },
  {
   "cell_type": "code",
   "execution_count": 41,
   "metadata": {},
   "outputs": [
    {
     "data": {
      "text/plain": [
       "84    12\n",
       "39    11\n",
       "31    10\n",
       "34     9\n",
       "44     9\n",
       "Name: Item ID, dtype: int64"
      ]
     },
     "execution_count": 41,
     "metadata": {},
     "output_type": "execute_result"
    }
   ],
   "source": [
    "#top 5 popular items\n",
    "popular_5 = merged_df[\"Item ID\"].value_counts()\n",
    "popular_5.head(5)"
   ]
  },
  {
   "cell_type": "code",
   "execution_count": 42,
   "metadata": {
    "collapsed": true
   },
   "outputs": [],
   "source": [
    "#find data for each item\n",
    "item_84 = merged_df[\"Item ID\"] == 84\n",
    "item_39 = merged_df[\"Item ID\"] == 39\n",
    "item_31 = merged_df[\"Item ID\"] == 31\n",
    "item_34 = merged_df[\"Item ID\"] == 34\n",
    "item_44 = merged_df[\"Item ID\"] == 44\n",
    "#find name for each item\n",
    "item_84_name = merged_df.loc[item_84][\"Item Name\"].values[0]\n",
    "item_39_name = merged_df.loc[item_39][\"Item Name\"].values[0]\n",
    "item_31_name = merged_df.loc[item_31][\"Item Name\"].values[0]\n",
    "item_34_name = merged_df.loc[item_34][\"Item Name\"].values[0]\n",
    "item_44_name = merged_df.loc[item_44][\"Item Name\"].values[0]\n"
   ]
  },
  {
   "cell_type": "code",
   "execution_count": 43,
   "metadata": {
    "collapsed": true
   },
   "outputs": [],
   "source": [
    "#find the amounts each item was purchased\n",
    "item_84_purchase = len(merged_df.loc[item_84])\n",
    "item_39_purchase = len(merged_df.loc[item_39])\n",
    "item_31_purchase = len(merged_df.loc[item_31])\n",
    "item_34_purchase = len(merged_df.loc[item_34])\n",
    "item_44_purchase = len(merged_df.loc[item_44])"
   ]
  },
  {
   "cell_type": "code",
   "execution_count": 44,
   "metadata": {
    "collapsed": true
   },
   "outputs": [],
   "source": [
    "#find item price\n",
    "item_84_price = merged_df.loc[item_84][\"Price\"].values[0]\n",
    "item_39_price = merged_df.loc[item_39][\"Price\"].values[0]\n",
    "item_31_price = merged_df.loc[item_31][\"Price\"].values[0]\n",
    "item_34_price = merged_df.loc[item_34][\"Price\"].values[0]\n",
    "item_44_price = merged_df.loc[item_44][\"Price\"].values[0]\n"
   ]
  },
  {
   "cell_type": "code",
   "execution_count": 45,
   "metadata": {
    "collapsed": true
   },
   "outputs": [],
   "source": [
    "#find total purchase value\n",
    "item_84_value = merged_df.loc[item_84][\"Price\"].sum()\n",
    "item_39_value = merged_df.loc[item_39][\"Price\"].sum()\n",
    "item_31_value = merged_df.loc[item_31][\"Price\"].sum()\n",
    "item_34_value = merged_df.loc[item_34][\"Price\"].sum()\n",
    "item_44_value = merged_df.loc[item_44][\"Price\"].sum()\n"
   ]
  },
  {
   "cell_type": "code",
   "execution_count": 46,
   "metadata": {},
   "outputs": [
    {
     "data": {
      "text/html": [
       "<div>\n",
       "<style>\n",
       "    .dataframe thead tr:only-child th {\n",
       "        text-align: right;\n",
       "    }\n",
       "\n",
       "    .dataframe thead th {\n",
       "        text-align: left;\n",
       "    }\n",
       "\n",
       "    .dataframe tbody tr th {\n",
       "        vertical-align: top;\n",
       "    }\n",
       "</style>\n",
       "<table border=\"1\" class=\"dataframe\">\n",
       "  <thead>\n",
       "    <tr style=\"text-align: right;\">\n",
       "      <th></th>\n",
       "      <th>Item Name</th>\n",
       "      <th>Item Price</th>\n",
       "      <th>Total Purchases</th>\n",
       "      <th>Total Revenue</th>\n",
       "    </tr>\n",
       "  </thead>\n",
       "  <tbody>\n",
       "    <tr>\n",
       "      <th>First</th>\n",
       "      <td>Arcane Gem</td>\n",
       "      <td>2.23</td>\n",
       "      <td>12</td>\n",
       "      <td>29.34</td>\n",
       "    </tr>\n",
       "    <tr>\n",
       "      <th>Second</th>\n",
       "      <td>Betrayal, Whisper of Grieving Widows</td>\n",
       "      <td>2.35</td>\n",
       "      <td>11</td>\n",
       "      <td>25.85</td>\n",
       "    </tr>\n",
       "    <tr>\n",
       "      <th>Third</th>\n",
       "      <td>Trickster</td>\n",
       "      <td>2.07</td>\n",
       "      <td>10</td>\n",
       "      <td>23.22</td>\n",
       "    </tr>\n",
       "    <tr>\n",
       "      <th>Fourth</th>\n",
       "      <td>Retribution Axe</td>\n",
       "      <td>4.14</td>\n",
       "      <td>9</td>\n",
       "      <td>37.26</td>\n",
       "    </tr>\n",
       "    <tr>\n",
       "      <th>Fifth</th>\n",
       "      <td>Bonecarvin Battle Axe</td>\n",
       "      <td>2.46</td>\n",
       "      <td>9</td>\n",
       "      <td>24.04</td>\n",
       "    </tr>\n",
       "  </tbody>\n",
       "</table>\n",
       "</div>"
      ],
      "text/plain": [
       "                                   Item Name  Item Price  Total Purchases  \\\n",
       "First                             Arcane Gem        2.23               12   \n",
       "Second  Betrayal, Whisper of Grieving Widows        2.35               11   \n",
       "Third                              Trickster        2.07               10   \n",
       "Fourth                       Retribution Axe        4.14                9   \n",
       "Fifth                  Bonecarvin Battle Axe        2.46                9   \n",
       "\n",
       "        Total Revenue  \n",
       "First           29.34  \n",
       "Second          25.85  \n",
       "Third           23.22  \n",
       "Fourth          37.26  \n",
       "Fifth           24.04  "
      ]
     },
     "execution_count": 46,
     "metadata": {},
     "output_type": "execute_result"
    }
   ],
   "source": [
    "#final index\n",
    "top_5_items_data = {\"Item Name\" : [item_84_name,item_39_name,item_31_name,item_34_name,item_44_name],\n",
    "                   \"Total Purchases\" : [item_84_purchase,item_39_purchase,item_31_purchase,item_34_purchase,item_44_purchase],\n",
    "                   \"Item Price\" : [item_84_price,item_39_price,item_31_price,item_34_price,item_44_price],\n",
    "                   \"Total Revenue\" : [item_84_value,item_39_value,item_31_value,item_34_value,item_44_value]}\n",
    "top_5_items_df = pd.DataFrame(top_5_items_data,index = [\"First\",\"Second\",\"Third\",\"Fourth\",\"Fifth\"])\n",
    "top_5_items_df"
   ]
  },
  {
   "cell_type": "code",
   "execution_count": 47,
   "metadata": {},
   "outputs": [
    {
     "data": {
      "text/html": [
       "<div>\n",
       "<style>\n",
       "    .dataframe thead tr:only-child th {\n",
       "        text-align: right;\n",
       "    }\n",
       "\n",
       "    .dataframe thead th {\n",
       "        text-align: left;\n",
       "    }\n",
       "\n",
       "    .dataframe tbody tr th {\n",
       "        vertical-align: top;\n",
       "    }\n",
       "</style>\n",
       "<table border=\"1\" class=\"dataframe\">\n",
       "  <thead>\n",
       "    <tr style=\"text-align: right;\">\n",
       "      <th></th>\n",
       "      <th>Item Name</th>\n",
       "      <th>Item Price</th>\n",
       "      <th>Total Purchases</th>\n",
       "      <th>Total Revenue</th>\n",
       "    </tr>\n",
       "  </thead>\n",
       "  <tbody>\n",
       "    <tr>\n",
       "      <th>First</th>\n",
       "      <td>Arcane Gem</td>\n",
       "      <td>$2.23</td>\n",
       "      <td>12</td>\n",
       "      <td>$29.34</td>\n",
       "    </tr>\n",
       "    <tr>\n",
       "      <th>Second</th>\n",
       "      <td>Betrayal, Whisper of Grieving Widows</td>\n",
       "      <td>$2.35</td>\n",
       "      <td>11</td>\n",
       "      <td>$25.85</td>\n",
       "    </tr>\n",
       "    <tr>\n",
       "      <th>Third</th>\n",
       "      <td>Trickster</td>\n",
       "      <td>$2.07</td>\n",
       "      <td>10</td>\n",
       "      <td>$23.22</td>\n",
       "    </tr>\n",
       "    <tr>\n",
       "      <th>Fourth</th>\n",
       "      <td>Retribution Axe</td>\n",
       "      <td>$4.14</td>\n",
       "      <td>9</td>\n",
       "      <td>$37.26</td>\n",
       "    </tr>\n",
       "    <tr>\n",
       "      <th>Fifth</th>\n",
       "      <td>Bonecarvin Battle Axe</td>\n",
       "      <td>$2.46</td>\n",
       "      <td>9</td>\n",
       "      <td>$24.04</td>\n",
       "    </tr>\n",
       "  </tbody>\n",
       "</table>\n",
       "</div>"
      ],
      "text/plain": [
       "                                   Item Name Item Price  Total Purchases  \\\n",
       "First                             Arcane Gem      $2.23               12   \n",
       "Second  Betrayal, Whisper of Grieving Widows      $2.35               11   \n",
       "Third                              Trickster      $2.07               10   \n",
       "Fourth                       Retribution Axe      $4.14                9   \n",
       "Fifth                  Bonecarvin Battle Axe      $2.46                9   \n",
       "\n",
       "       Total Revenue  \n",
       "First         $29.34  \n",
       "Second        $25.85  \n",
       "Third         $23.22  \n",
       "Fourth        $37.26  \n",
       "Fifth         $24.04  "
      ]
     },
     "execution_count": 47,
     "metadata": {},
     "output_type": "execute_result"
    }
   ],
   "source": [
    "#formatting\n",
    "top_5_items_df[\"Item Price\"] = top_5_items_df[\"Item Price\"].map(\"${0:,.2f}\".format)\n",
    "top_5_items_df[\"Total Revenue\"] = top_5_items_df[\"Total Revenue\"].map(\"${0:,.2f}\".format)\n",
    "top_5_items_df"
   ]
  },
  {
   "cell_type": "code",
   "execution_count": 48,
   "metadata": {},
   "outputs": [
    {
     "data": {
      "text/plain": [
       "Item ID\n",
       "34     37.26\n",
       "107    33.03\n",
       "115    29.75\n",
       "32     29.70\n",
       "84     29.34\n",
       "Name: Price, dtype: float64"
      ]
     },
     "execution_count": 48,
     "metadata": {},
     "output_type": "execute_result"
    }
   ],
   "source": [
    "#top 5 profitable items\n",
    "#group them by item id\n",
    "grouped_df = merged_df.groupby(\"Item ID\")\n",
    "#sum the revenue\n",
    "grouped_df = grouped_df[\"Price\"].sum()\n",
    "#descending order\n",
    "grouped_df = grouped_df.sort_values(ascending = False)\n",
    "#top 5\n",
    "grouped_df.head(5)"
   ]
  },
  {
   "cell_type": "code",
   "execution_count": 49,
   "metadata": {
    "collapsed": true
   },
   "outputs": [],
   "source": [
    "#find data for each item\n",
    "item_34 = merged_df[\"Item ID\"] == 34\n",
    "item_107 = merged_df[\"Item ID\"] == 107\n",
    "item_115 = merged_df[\"Item ID\"] == 115\n",
    "item_32 = merged_df[\"Item ID\"] == 32\n",
    "item_84 = merged_df[\"Item ID\"] == 84\n",
    "#find name for each item\n",
    "item_34_name = merged_df.loc[item_34][\"Item Name\"].values[0]\n",
    "item_107_name = merged_df.loc[item_107][\"Item Name\"].values[0]\n",
    "item_115_name = merged_df.loc[item_115][\"Item Name\"].values[0]\n",
    "item_32_name = merged_df.loc[item_32][\"Item Name\"].values[0]\n",
    "item_84_name = merged_df.loc[item_84][\"Item Name\"].values[0]"
   ]
  },
  {
   "cell_type": "code",
   "execution_count": 50,
   "metadata": {
    "collapsed": true
   },
   "outputs": [],
   "source": [
    "#find the amounts each item was purchased\n",
    "item_34_purchase = len(merged_df.loc[item_34])\n",
    "item_107_purchase = len(merged_df.loc[item_107])\n",
    "item_115_purchase = len(merged_df.loc[item_115])\n",
    "item_32_purchase = len(merged_df.loc[item_32])\n",
    "item_84_purchase = len(merged_df.loc[item_84])"
   ]
  },
  {
   "cell_type": "code",
   "execution_count": 51,
   "metadata": {
    "collapsed": true
   },
   "outputs": [],
   "source": [
    "#find item price\n",
    "item_34_price = merged_df.loc[item_34][\"Price\"].values[0]\n",
    "item_107_price = merged_df.loc[item_107][\"Price\"].values[0]\n",
    "item_115_price = merged_df.loc[item_115][\"Price\"].values[0]\n",
    "item_32_price = merged_df.loc[item_32][\"Price\"].values[0]\n",
    "item_84_price = merged_df.loc[item_84][\"Price\"].values[0]"
   ]
  },
  {
   "cell_type": "code",
   "execution_count": 52,
   "metadata": {
    "collapsed": true
   },
   "outputs": [],
   "source": [
    "#find total purchase value\n",
    "item_34_value = merged_df.loc[item_34][\"Price\"].sum()\n",
    "item_107_value = merged_df.loc[item_107][\"Price\"].sum()\n",
    "item_115_value = merged_df.loc[item_115][\"Price\"].sum()\n",
    "item_32_value = merged_df.loc[item_32][\"Price\"].sum()\n",
    "item_84_value = merged_df.loc[item_84][\"Price\"].sum()"
   ]
  },
  {
   "cell_type": "code",
   "execution_count": 53,
   "metadata": {},
   "outputs": [
    {
     "data": {
      "text/html": [
       "<div>\n",
       "<style>\n",
       "    .dataframe thead tr:only-child th {\n",
       "        text-align: right;\n",
       "    }\n",
       "\n",
       "    .dataframe thead th {\n",
       "        text-align: left;\n",
       "    }\n",
       "\n",
       "    .dataframe tbody tr th {\n",
       "        vertical-align: top;\n",
       "    }\n",
       "</style>\n",
       "<table border=\"1\" class=\"dataframe\">\n",
       "  <thead>\n",
       "    <tr style=\"text-align: right;\">\n",
       "      <th></th>\n",
       "      <th>Item Name</th>\n",
       "      <th>Item Price</th>\n",
       "      <th>Total Purchases</th>\n",
       "      <th>Total Revenue</th>\n",
       "    </tr>\n",
       "  </thead>\n",
       "  <tbody>\n",
       "    <tr>\n",
       "      <th>First</th>\n",
       "      <td>Retribution Axe</td>\n",
       "      <td>4.14</td>\n",
       "      <td>9</td>\n",
       "      <td>37.26</td>\n",
       "    </tr>\n",
       "    <tr>\n",
       "      <th>Second</th>\n",
       "      <td>Splitter, Foe Of Subtlety</td>\n",
       "      <td>3.61</td>\n",
       "      <td>9</td>\n",
       "      <td>33.03</td>\n",
       "    </tr>\n",
       "    <tr>\n",
       "      <th>Third</th>\n",
       "      <td>Spectral Diamond Doomblade</td>\n",
       "      <td>4.25</td>\n",
       "      <td>7</td>\n",
       "      <td>29.75</td>\n",
       "    </tr>\n",
       "    <tr>\n",
       "      <th>Fourth</th>\n",
       "      <td>Orenmir</td>\n",
       "      <td>4.95</td>\n",
       "      <td>6</td>\n",
       "      <td>29.70</td>\n",
       "    </tr>\n",
       "    <tr>\n",
       "      <th>Fifth</th>\n",
       "      <td>Arcane Gem</td>\n",
       "      <td>2.23</td>\n",
       "      <td>12</td>\n",
       "      <td>29.34</td>\n",
       "    </tr>\n",
       "  </tbody>\n",
       "</table>\n",
       "</div>"
      ],
      "text/plain": [
       "                         Item Name  Item Price  Total Purchases  Total Revenue\n",
       "First              Retribution Axe        4.14                9          37.26\n",
       "Second   Splitter, Foe Of Subtlety        3.61                9          33.03\n",
       "Third   Spectral Diamond Doomblade        4.25                7          29.75\n",
       "Fourth                     Orenmir        4.95                6          29.70\n",
       "Fifth                   Arcane Gem        2.23               12          29.34"
      ]
     },
     "execution_count": 53,
     "metadata": {},
     "output_type": "execute_result"
    }
   ],
   "source": [
    "#get final table\n",
    "top_5_profit_data = {\"Item Name\" : [item_34_name,item_107_name,item_115_name,item_32_name,item_84_name],\n",
    "                   \"Total Purchases\" : [item_34_purchase,item_107_purchase,item_115_purchase,item_32_purchase,item_84_purchase],\n",
    "                   \"Item Price\" : [item_34_price,item_107_price,item_115_price,item_32_price,item_84_price],\n",
    "                   \"Total Revenue\" : [item_34_value,item_107_value,item_115_value,item_32_value,item_84_value]}\n",
    "top_5_profit_df = pd.DataFrame(top_5_profit_data,index = [\"First\",\"Second\",\"Third\",\"Fourth\",\"Fifth\"])\n",
    "top_5_profit_df"
   ]
  },
  {
   "cell_type": "code",
   "execution_count": 54,
   "metadata": {},
   "outputs": [
    {
     "data": {
      "text/html": [
       "<div>\n",
       "<style>\n",
       "    .dataframe thead tr:only-child th {\n",
       "        text-align: right;\n",
       "    }\n",
       "\n",
       "    .dataframe thead th {\n",
       "        text-align: left;\n",
       "    }\n",
       "\n",
       "    .dataframe tbody tr th {\n",
       "        vertical-align: top;\n",
       "    }\n",
       "</style>\n",
       "<table border=\"1\" class=\"dataframe\">\n",
       "  <thead>\n",
       "    <tr style=\"text-align: right;\">\n",
       "      <th></th>\n",
       "      <th>Item Name</th>\n",
       "      <th>Item Price</th>\n",
       "      <th>Total Purchases</th>\n",
       "      <th>Total Revenue</th>\n",
       "    </tr>\n",
       "  </thead>\n",
       "  <tbody>\n",
       "    <tr>\n",
       "      <th>First</th>\n",
       "      <td>Retribution Axe</td>\n",
       "      <td>$4.14</td>\n",
       "      <td>9</td>\n",
       "      <td>$37.26</td>\n",
       "    </tr>\n",
       "    <tr>\n",
       "      <th>Second</th>\n",
       "      <td>Splitter, Foe Of Subtlety</td>\n",
       "      <td>$3.61</td>\n",
       "      <td>9</td>\n",
       "      <td>$33.03</td>\n",
       "    </tr>\n",
       "    <tr>\n",
       "      <th>Third</th>\n",
       "      <td>Spectral Diamond Doomblade</td>\n",
       "      <td>$4.25</td>\n",
       "      <td>7</td>\n",
       "      <td>$29.75</td>\n",
       "    </tr>\n",
       "    <tr>\n",
       "      <th>Fourth</th>\n",
       "      <td>Orenmir</td>\n",
       "      <td>$4.95</td>\n",
       "      <td>6</td>\n",
       "      <td>$29.70</td>\n",
       "    </tr>\n",
       "    <tr>\n",
       "      <th>Fifth</th>\n",
       "      <td>Arcane Gem</td>\n",
       "      <td>$2.23</td>\n",
       "      <td>12</td>\n",
       "      <td>$29.34</td>\n",
       "    </tr>\n",
       "  </tbody>\n",
       "</table>\n",
       "</div>"
      ],
      "text/plain": [
       "                         Item Name Item Price  Total Purchases Total Revenue\n",
       "First              Retribution Axe      $4.14                9        $37.26\n",
       "Second   Splitter, Foe Of Subtlety      $3.61                9        $33.03\n",
       "Third   Spectral Diamond Doomblade      $4.25                7        $29.75\n",
       "Fourth                     Orenmir      $4.95                6        $29.70\n",
       "Fifth                   Arcane Gem      $2.23               12        $29.34"
      ]
     },
     "execution_count": 54,
     "metadata": {},
     "output_type": "execute_result"
    }
   ],
   "source": [
    "# #formatting\n",
    "top_5_profit_df[\"Item Price\"] = top_5_profit_df[\"Item Price\"].map(\"${0:,.2f}\".format)\n",
    "top_5_profit_df[\"Total Revenue\"] = top_5_profit_df[\"Total Revenue\"].map(\"${0:,.2f}\".format)\n",
    "top_5_profit_df"
   ]
  },
  {
   "cell_type": "code",
   "execution_count": 55,
   "metadata": {
    "collapsed": true
   },
   "outputs": [],
   "source": [
    "#Finish!"
   ]
  },
  {
   "cell_type": "code",
   "execution_count": null,
   "metadata": {
    "collapsed": true
   },
   "outputs": [],
   "source": []
  }
 ],
 "metadata": {
  "kernelspec": {
   "display_name": "Python 3",
   "language": "python",
   "name": "python3"
  },
  "language_info": {
   "codemirror_mode": {
    "name": "ipython",
    "version": 3
   },
   "file_extension": ".py",
   "mimetype": "text/x-python",
   "name": "python",
   "nbconvert_exporter": "python",
   "pygments_lexer": "ipython3",
   "version": "3.6.3"
  }
 },
 "nbformat": 4,
 "nbformat_minor": 2
}
